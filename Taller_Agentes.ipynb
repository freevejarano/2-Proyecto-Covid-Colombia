{
  "nbformat": 4,
  "nbformat_minor": 0,
  "metadata": {
    "colab": {
      "name": "Taller Agentes.ipynb",
      "provenance": [],
      "authorship_tag": "ABX9TyMNdfZFJW9YAwU8HG7a/5Xf",
      "include_colab_link": true
    },
    "kernelspec": {
      "name": "python3",
      "display_name": "Python 3"
    },
    "widgets": {
      "application/vnd.jupyter.widget-state+json": {
        "05b4db10f5834d6f89705c1bdddbaa34": {
          "model_module": "@jupyter-widgets/controls",
          "model_name": "HTMLModel",
          "state": {
            "_view_name": "HTMLView",
            "style": "IPY_MODEL_00ea535535bd4801bff919e048e7dafc",
            "_dom_classes": [],
            "description": "",
            "_model_name": "HTMLModel",
            "placeholder": "​",
            "_view_module": "@jupyter-widgets/controls",
            "_model_module_version": "1.5.0",
            "value": "<table border='1'; background-color: green><tr><td style='height:40px;width:40px'></td><td style='height:40px;width:40px'></td><td style='height:40px;width:40px'></td><td style='height:40px;width:40px'></td><td style='height:40px;width:40px'></td><td style='height:40px;width:40px'></td><td style='height:40px;width:40px'></td><td style='height:40px;width:40px'></td><td style='height:40px;width:40px'></td><td style='height:40px;width:40px'></td></tr><tr><td style='height:40px;width:40px'></td><td style='height:40px;width:40px'></td><td style='height:40px;width:40px'></td><td style='height:40px;width:40px'></td><td style='height:40px;width:40px'></td><td style='height:40px;width:40px'></td><td style='height:40px;width:40px'></td><td style='height:40px;width:40px'></td><td style='height:40px;width:40px'></td><td style='height:40px;width:40px'></td></tr><tr><td style='height:40px;width:40px'></td><td style='height:40px;width:40px'></td><td style='height:40px;width:40px'></td><td style='height:40px;width:40px'></td><td style='height:40px;width:40px'></td><td style='height:40px;width:40px'></td><td style='height:40px;width:40px'></td><td style='height:40px;width:40px'></td><td style='height:40px;width:40px'></td><td style='height:40px;width:40px'></td></tr><tr><td style='height:40px;width:40px'></td><td style='height:40px;width:40px'></td><td style='height:40px;width:40px'></td><td style='height:40px;width:40px'><div style='transform: rotate(0deg);font-size:25px;'>🥟</div></td><td style='height:40px;width:40px'><div style='transform: rotate(0deg);font-size:25px;'>🥟</div></td><td style='height:40px;width:40px'><div style='transform: rotate(0deg);font-size:25px;'>🥟</div></td><td style='height:40px;width:40px'></td><td style='height:40px;width:40px'></td><td style='height:40px;width:40px'></td><td style='height:40px;width:40px'><div style='transform: rotate(0deg);font-size:25px;'>🥟</div></td></tr><tr><td style='height:40px;width:40px'></td><td style='height:40px;width:40px'></td><td style='height:40px;width:40px'></td><td style='height:40px;width:40px'></td><td style='height:40px;width:40px'></td><td style='height:40px;width:40px'></td><td style='height:40px;width:40px'></td><td style='height:40px;width:40px'></td><td style='height:40px;width:40px'></td><td style='height:40px;width:40px'></td></tr><tr><td style='height:40px;width:40px'></td><td style='height:40px;width:40px'></td><td style='height:40px;width:40px'></td><td style='height:40px;width:40px'></td><td style='height:40px;width:40px'></td><td style='height:40px;width:40px'></td><td style='height:40px;width:40px'></td><td style='height:40px;width:40px'></td><td style='height:40px;width:40px'></td><td style='height:40px;width:40px'></td></tr><tr><td style='height:40px;width:40px'></td><td style='height:40px;width:40px'></td><td style='height:40px;width:40px'></td><td style='height:40px;width:40px'><div style='transform: rotate(0deg);font-size:25px;'>🥟</div></td><td style='height:40px;width:40px'><div style='transform: rotate(0deg);font-size:25px;'>🥟</div></td><td style='height:40px;width:40px'><div style='transform: rotate(0deg);font-size:25px;'>🥟</div></td><td style='height:40px;width:40px'></td><td style='height:40px;width:40px'></td><td style='height:40px;width:40px'></td><td style='height:40px;width:40px'><div style='transform: rotate(0deg);font-size:25px;'>🥟</div></td></tr><tr><td style='height:40px;width:40px'></td><td style='height:40px;width:40px'></td><td style='height:40px;width:40px'></td><td style='height:40px;width:40px'></td><td style='height:40px;width:40px'></td><td style='height:40px;width:40px'></td><td style='height:40px;width:40px'></td><td style='height:40px;width:40px'></td><td style='height:40px;width:40px'></td><td style='height:40px;width:40px'></td></tr><tr><td style='height:40px;width:40px'></td><td style='height:40px;width:40px'></td><td style='height:40px;width:40px'></td><td style='height:40px;width:40px'><div style='transform: rotate(0deg);font-size:25px;'>🥟</div></td><td style='height:40px;width:40px'><div style='transform: rotate(0deg);font-size:25px;'>🥟</div></td><td style='height:40px;width:40px'><div style='transform: rotate(0deg);font-size:25px;'>🥟</div></td><td style='height:40px;width:40px'></td><td style='height:40px;width:40px'></td><td style='height:40px;width:40px'></td><td style='height:40px;width:40px'><div style='transform: rotate(0deg);font-size:25px;'>🥟</div></td></tr><tr><td style='height:40px;width:40px'></td><td style='height:40px;width:40px'></td><td style='height:40px;width:40px'></td><td style='height:40px;width:40px'></td><td style='height:40px;width:40px'></td><td style='height:40px;width:40px'></td><td style='height:40px;width:40px'></td><td style='height:40px;width:40px'></td><td style='height:40px;width:40px'></td><td style='height:40px;width:40px'><div style='transform: rotate(0deg);font-size:25px;'>🥵</div></td></tr></table>",
            "_view_count": null,
            "_view_module_version": "1.5.0",
            "description_tooltip": null,
            "_model_module": "@jupyter-widgets/controls",
            "layout": "IPY_MODEL_29c43ad8cb9644cfaebc4dcaea841a45"
          }
        },
        "00ea535535bd4801bff919e048e7dafc": {
          "model_module": "@jupyter-widgets/controls",
          "model_name": "DescriptionStyleModel",
          "state": {
            "_view_name": "StyleView",
            "_model_name": "DescriptionStyleModel",
            "description_width": "",
            "_view_module": "@jupyter-widgets/base",
            "_model_module_version": "1.5.0",
            "_view_count": null,
            "_view_module_version": "1.2.0",
            "_model_module": "@jupyter-widgets/controls"
          }
        },
        "29c43ad8cb9644cfaebc4dcaea841a45": {
          "model_module": "@jupyter-widgets/base",
          "model_name": "LayoutModel",
          "state": {
            "_view_name": "LayoutView",
            "grid_template_rows": null,
            "right": null,
            "justify_content": null,
            "_view_module": "@jupyter-widgets/base",
            "overflow": null,
            "_model_module_version": "1.2.0",
            "_view_count": null,
            "flex_flow": null,
            "width": null,
            "min_width": null,
            "border": null,
            "align_items": null,
            "bottom": null,
            "_model_module": "@jupyter-widgets/base",
            "top": null,
            "grid_column": null,
            "overflow_y": null,
            "overflow_x": null,
            "grid_auto_flow": null,
            "grid_area": null,
            "grid_template_columns": null,
            "flex": null,
            "_model_name": "LayoutModel",
            "justify_items": null,
            "grid_row": null,
            "max_height": null,
            "align_content": null,
            "visibility": null,
            "align_self": null,
            "height": null,
            "min_height": null,
            "padding": null,
            "grid_auto_rows": null,
            "grid_gap": null,
            "max_width": null,
            "order": null,
            "_view_module_version": "1.2.0",
            "grid_template_areas": null,
            "object_position": null,
            "object_fit": null,
            "grid_auto_columns": null,
            "margin": null,
            "display": null,
            "left": null
          }
        }
      }
    }
  },
  "cells": [
    {
      "cell_type": "markdown",
      "metadata": {
        "id": "view-in-github",
        "colab_type": "text"
      },
      "source": [
        "<a href=\"https://colab.research.google.com/github/freevejarano/2-Proyecto-Covid-Colombia/blob/main/Taller_Agentes.ipynb\" target=\"_parent\"><img src=\"https://colab.research.google.com/assets/colab-badge.svg\" alt=\"Open In Colab\"/></a>"
      ]
    },
    {
      "cell_type": "markdown",
      "metadata": {
        "id": "csWC8iNUpBzd"
      },
      "source": [
        "<img src=\"https://res-5.cloudinary.com/crunchbase-production/image/upload/c_lpad,h_256,w_256,f_auto,q_auto:eco/v1455514364/pim02bzqvgz0hibsra41.png\" align=\"right\"><br><br><FONT FACE=\"times new roman\" SIZE=5>\r\n",
        "**Universidad Sergio Arboleda**\r\n",
        "\r\n",
        "Autores:\r\n",
        "\r\n",
        "*   Jessica Valentina Parrado Alfonso\r\n",
        "*   Lady Geraldine Salazar Bayona\r\n",
        "*   Luis Alejandro Vejarano Gutierrez\r\n",
        "*   Michael Steven Pinilla Mateus\r\n",
        "\r\n",
        "Fecha: 24/FEB/2021\r\n",
        "\r\n",
        "Título: Taller Agentes\r\n"
      ]
    },
    {
      "cell_type": "code",
      "metadata": {
        "id": "nLz_jtogo8cw"
      },
      "source": [
        "from IPython.display import display\r\n",
        "import ipywidgets as widgets\r\n",
        "import time\r\n",
        "import random\r\n",
        "\r\n",
        "class Tablero:\r\n",
        "  def __init__(self, tamanoCelda=(40, 40), nCeldas=(5,5)):\r\n",
        "    self.out = widgets.HTML()\r\n",
        "    display(self.out)\r\n",
        "    self.tamanoCelda = tamanoCelda\r\n",
        "    self.nCeldas = nCeldas\r\n",
        "\r\n",
        "  def dibujar(self, agente):\r\n",
        "    tablero = \"<table border='1'; background-color: green>{}</table>\"\r\n",
        "    filas = \"\"\r\n",
        "\r\n",
        "    for i in range(self.nCeldas[0]):\r\n",
        "      s = \"\"\r\n",
        "      for j in range(self.nCeldas[1]):\r\n",
        "        if agente.x == j and agente.y == i:\r\n",
        "          contenido = f\"<div style='transform: rotate({agente.angulo}deg);font-size:{agente.tamanoEmoticon}px;'>{agente.emoticon}</div>\"\r\n",
        "        elif i in agente.prede1 and j in agente.prede2:\r\n",
        "          contenido = f\"<div style='transform: rotate({agente.angulo}deg);font-size:{agente.tamanoEmoticon}px;'>🥟</div>\"\r\n",
        "        else:\r\n",
        "          contenido =\"\"\r\n",
        "\r\n",
        "        s += \"<td style='height:{alto}px;width:{ancho}px'>{contenido}</td>\".\\\r\n",
        "        format(alto=self.tamanoCelda[0], ancho=self.tamanoCelda[1], \r\n",
        "               contenido=contenido)\r\n",
        "      filas += \"<tr>{}</tr>\".format(s)\r\n",
        "    tablero = tablero.format(filas)\r\n",
        "    self.out.value=tablero"
      ],
      "execution_count": 72,
      "outputs": []
    },
    {
      "cell_type": "code",
      "metadata": {
        "id": "nyFt8CnpqZpb"
      },
      "source": [
        "class Agente:\r\n",
        "  def __init__(self, x=0, y=0, angulo=0, emoticon=\"🥵\", tamanoEmoticon=25):\r\n",
        "    self.x = x\r\n",
        "    self.y = y\r\n",
        "    self.angulo = angulo\r\n",
        "    self.emoticon = emoticon\r\n",
        "    self.tamanoEmoticon = tamanoEmoticon\r\n",
        "    self.prede1 = [random.randint(1,11) for x in range(5)]\r\n",
        "    self.prede2 = [random.randint(1,11) for x in range(5)]\r\n",
        "\r\n",
        "  def moverseAbajo(self):\r\n",
        "    self.y += 1\r\n",
        "\r\n",
        "  def moverseArriba(self):\r\n",
        "    self.y -= 1\r\n",
        "\r\n",
        "  def moverseDerecha(self):\r\n",
        "    self.x +=1\r\n",
        "  \r\n",
        "  def moverseIzquierda(self):\r\n",
        "    self.x-=1"
      ],
      "execution_count": 73,
      "outputs": []
    },
    {
      "cell_type": "code",
      "metadata": {
        "colab": {
          "base_uri": "https://localhost:8080/",
          "height": 472,
          "referenced_widgets": [
            "05b4db10f5834d6f89705c1bdddbaa34",
            "00ea535535bd4801bff919e048e7dafc",
            "29c43ad8cb9644cfaebc4dcaea841a45"
          ]
        },
        "id": "9_of5zepqal6",
        "outputId": "b9256c9c-aefa-4a78-b152-1991b1f45362"
      },
      "source": [
        "agente = Agente()\r\n",
        "escenario = Tablero(nCeldas=(10,10))\r\n",
        "\r\n",
        "for i in range(10):\r\n",
        "  escenario.dibujar(agente)\r\n",
        "  time.sleep(1)\r\n",
        "  agente.moverseDerecha()\r\n",
        "  time.sleep(1)\r\n",
        "  agente.moverseAbajo()\r\n"
      ],
      "execution_count": 74,
      "outputs": [
        {
          "output_type": "display_data",
          "data": {
            "application/vnd.jupyter.widget-view+json": {
              "model_id": "05b4db10f5834d6f89705c1bdddbaa34",
              "version_minor": 0,
              "version_major": 2
            },
            "text/plain": [
              "HTML(value='')"
            ]
          },
          "metadata": {
            "tags": []
          }
        }
      ]
    }
  ]
}